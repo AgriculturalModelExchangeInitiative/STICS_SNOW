{
 "cells": [
  {
   "cell_type": "markdown",
   "id": "c3c11148",
   "metadata": {},
   "source": [
    "# Automatic generation of Notebook using PyCropML\n",
    "    This notebook implements a crop model."
   ]
  },
  {
   "cell_type": "markdown",
   "id": "9124bc0f",
   "metadata": {},
   "source": [
    "### Model Snowdensity"
   ]
  },
  {
   "cell_type": "code",
   "execution_count": null,
   "id": "7588bed6",
   "metadata": {},
   "outputs": [],
   "source": [
    "#include \"../../src/cpp/snow_pkg/SnowState.cpp\"\n",
    "#include \"../../src/cpp/snow_pkg/SnowRate.cpp\"\n",
    "#include \"../../src/cpp/snow_pkg/SnowAuxiliary.cpp\"\n",
    "#include \"../../src/cpp/snow_pkg/SnowExogenous.cpp\"\n",
    "#include \"../../src/cpp/snow_pkg/Snowdensity.cpp\"\n"
   ]
  },
  {
   "cell_type": "code",
   "execution_count": null,
   "id": "738d4bdc",
   "metadata": {},
   "outputs": [],
   "source": [
    "class Test\n",
    "{\n",
    "    private:\n",
    "        SnowState s;\n",
    "        SnowState s1;\n",
    "        SnowRate r;\n",
    "        SnowAuxiliary a;\n",
    "        SnowExogenous ex;\n",
    "        Snowdensity mod;\n",
    "    public:\n",
    "        //check snow model\n",
    "\n",
    "        // test_snow1\n",
    "        void test_snow1()\n",
    "        {\n",
    "            this->s1.setSdry(0.05);\n",
    "            this->s1.setSwet(2);\n",
    "            this->s1.setSdepth(0.010);\n",
    "            this->s1.setps(200);\n",
    "            this->mod.Calculate_Model(s,s1, r, a, ex);\n",
    "            //ps: 205;\n",
    "            cout << \"ps estimated :\\n\";\n",
    "            cout << \"\\t\" << this->s.getps() << \"\\n\";\n",
    "        };\n",
    "}\n"
   ]
  },
  {
   "cell_type": "code",
   "execution_count": null,
   "id": "83597c13",
   "metadata": {},
   "outputs": [],
   "source": [
    "Test t;\n",
    "t.test_snow1();\n"
   ]
  }
 ],
 "metadata": {},
 "nbformat": 4,
 "nbformat_minor": 5
}
