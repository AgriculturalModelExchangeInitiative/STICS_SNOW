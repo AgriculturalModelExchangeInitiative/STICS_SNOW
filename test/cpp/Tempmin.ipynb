{
 "cells": [
  {
   "cell_type": "markdown",
   "id": "180c1fb5",
   "metadata": {},
   "source": [
    "# Automatic generation of Notebook using PyCropML\n",
    "    This notebook implements a crop model."
   ]
  },
  {
   "cell_type": "markdown",
   "id": "fcb7ae14",
   "metadata": {},
   "source": [
    "### Model Tempmin"
   ]
  },
  {
   "cell_type": "code",
   "execution_count": null,
   "id": "2e8af401",
   "metadata": {},
   "outputs": [],
   "source": [
    "#include \"../../src/cpp/snow_pkg/SnowState.cpp\"\n",
    "#include \"../../src/cpp/snow_pkg/SnowRate.cpp\"\n",
    "#include \"../../src/cpp/snow_pkg/SnowAuxiliary.cpp\"\n",
    "#include \"../../src/cpp/snow_pkg/SnowExogenous.cpp\"\n",
    "#include \"../../src/cpp/snow_pkg/Tempmin.cpp\"\n"
   ]
  },
  {
   "cell_type": "code",
   "execution_count": null,
   "id": "0367110a",
   "metadata": {},
   "outputs": [],
   "source": [
    "class Test\n",
    "{\n",
    "    private:\n",
    "        SnowState s;\n",
    "        SnowState s1;\n",
    "        SnowRate r;\n",
    "        SnowAuxiliary a;\n",
    "        SnowExogenous ex;\n",
    "        Tempmin mod;\n",
    "    public:\n",
    "        //check snow model\n",
    "\n",
    "        // test_snow1\n",
    "        void test_snow1()\n",
    "        {\n",
    "            this->mod.setprof(10.0);\n",
    "            this->mod.settminseuil(-0.5);\n",
    "            this->mod.settmaxseuil(0.0);\n",
    "            this->s.setSdepth_cm(5.2);\n",
    "            this->a.settmin(-0.05);\n",
    "            this->mod.Calculate_Model(s,s1, r, a, ex);\n",
    "            //tminrec: -0.28;\n",
    "            cout << \"tminrec estimated :\\n\";\n",
    "            cout << \"\\t\" << this->s.gettminrec() << \"\\n\";\n",
    "        };\n",
    "}\n"
   ]
  },
  {
   "cell_type": "code",
   "execution_count": null,
   "id": "0bc61216",
   "metadata": {},
   "outputs": [],
   "source": [
    "Test t;\n",
    "t.test_snow1();\n"
   ]
  }
 ],
 "metadata": {},
 "nbformat": 4,
 "nbformat_minor": 5
}
