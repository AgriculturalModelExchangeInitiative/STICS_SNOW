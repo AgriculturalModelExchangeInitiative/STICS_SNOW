{
 "cells": [
  {
   "cell_type": "markdown",
   "id": "ec29bc76",
   "metadata": {},
   "source": [
    "# Automatic generation of Notebook using PyCropML\n",
    "    This notebook implements a crop model."
   ]
  },
  {
   "cell_type": "markdown",
   "id": "46c80066",
   "metadata": {},
   "source": [
    "### Model Snowmelt"
   ]
  },
  {
   "cell_type": "code",
   "execution_count": null,
   "id": "dee1c5bc",
   "metadata": {},
   "outputs": [],
   "source": [
    "#include \"../../src/cpp/snow_pkg/SnowState.cpp\"\n",
    "#include \"../../src/cpp/snow_pkg/SnowRate.cpp\"\n",
    "#include \"../../src/cpp/snow_pkg/SnowAuxiliary.cpp\"\n",
    "#include \"../../src/cpp/snow_pkg/SnowExogenous.cpp\"\n",
    "#include \"../../src/cpp/snow_pkg/Snowmelt.cpp\"\n"
   ]
  },
  {
   "cell_type": "code",
   "execution_count": null,
   "id": "f67e1a8b",
   "metadata": {},
   "outputs": [],
   "source": [
    "class Test\n",
    "{\n",
    "    private:\n",
    "        SnowState s;\n",
    "        SnowState s1;\n",
    "        SnowRate r;\n",
    "        SnowAuxiliary a;\n",
    "        SnowExogenous ex;\n",
    "        Snowmelt mod;\n",
    "    public:\n",
    "        //check snow model\n",
    "\n",
    "        // test_snow1\n",
    "        void test_snow1()\n",
    "        {\n",
    "            this->r.setM(10.0);\n",
    "            this->s.setps(200.0);\n",
    "            this->mod.Calculate_Model(s,s1, r, a, ex);\n",
    "            //Snowmelt: 0.05;\n",
    "            cout << \"Snowmelt estimated :\\n\";\n",
    "            cout << \"\\t\" << this->s.getSnowmelt() << \"\\n\";\n",
    "        };\n",
    "}\n"
   ]
  },
  {
   "cell_type": "code",
   "execution_count": null,
   "id": "a6287575",
   "metadata": {},
   "outputs": [],
   "source": [
    "Test t;\n",
    "t.test_snow1();\n"
   ]
  }
 ],
 "metadata": {},
 "nbformat": 4,
 "nbformat_minor": 5
}
