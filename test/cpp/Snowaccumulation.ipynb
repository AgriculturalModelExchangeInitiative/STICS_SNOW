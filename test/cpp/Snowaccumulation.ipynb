{
 "cells": [
  {
   "cell_type": "markdown",
   "id": "05678fb1",
   "metadata": {},
   "source": [
    "# Automatic generation of Notebook using PyCropML\n",
    "    This notebook implements a crop model."
   ]
  },
  {
   "cell_type": "markdown",
   "id": "075b1c62",
   "metadata": {},
   "source": [
    "### Model Snowaccumulation"
   ]
  },
  {
   "cell_type": "code",
   "execution_count": null,
   "id": "0779b156",
   "metadata": {},
   "outputs": [],
   "source": [
    "#include \"../../src/cpp/snow_pkg/SnowState.cpp\"\n",
    "#include \"../../src/cpp/snow_pkg/SnowRate.cpp\"\n",
    "#include \"../../src/cpp/snow_pkg/SnowAuxiliary.cpp\"\n",
    "#include \"../../src/cpp/snow_pkg/SnowExogenous.cpp\"\n",
    "#include \"../../src/cpp/snow_pkg/Snowaccumulation.cpp\"\n"
   ]
  },
  {
   "cell_type": "code",
   "execution_count": null,
   "id": "d84cc05c",
   "metadata": {},
   "outputs": [],
   "source": [
    "class Test\n",
    "{\n",
    "    private:\n",
    "        SnowState s;\n",
    "        SnowState s1;\n",
    "        SnowRate r;\n",
    "        SnowAuxiliary a;\n",
    "        SnowExogenous ex;\n",
    "        Snowaccumulation mod;\n",
    "    public:\n",
    "        //check snow model\n",
    "\n",
    "        // test_snow1\n",
    "        void test_snow1()\n",
    "        {\n",
    "            this->mod.settrmax(1.0);\n",
    "            this->mod.settsmax(-2.0);\n",
    "            this->a.settmax(-1.0);\n",
    "            this->a.setprecip(0.5);\n",
    "            this->mod.Calculate_Model(s,s1, r, a, ex);\n",
    "            //Snowaccu: 0.33;\n",
    "            cout << \"Snowaccu estimated :\\n\";\n",
    "            cout << \"\\t\" << this->r.getSnowaccu() << \"\\n\";\n",
    "        };\n",
    "}\n"
   ]
  },
  {
   "cell_type": "code",
   "execution_count": null,
   "id": "8bdaaf01",
   "metadata": {},
   "outputs": [],
   "source": [
    "Test t;\n",
    "t.test_snow1();\n"
   ]
  }
 ],
 "metadata": {},
 "nbformat": 4,
 "nbformat_minor": 5
}
