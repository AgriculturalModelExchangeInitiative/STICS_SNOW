{
 "cells": [
  {
   "cell_type": "markdown",
   "id": "6ba45f03",
   "metadata": {},
   "source": [
    "# Automatic generation of Notebook using PyCropML\n",
    "    This notebook implements a crop model."
   ]
  },
  {
   "cell_type": "markdown",
   "id": "9ea56e90",
   "metadata": {},
   "source": [
    "### Model Snowwet"
   ]
  },
  {
   "cell_type": "code",
   "execution_count": null,
   "id": "04d31783",
   "metadata": {},
   "outputs": [],
   "source": [
    "#include \"../../src/cpp/snow_pkg/SnowState.cpp\"\n",
    "#include \"../../src/cpp/snow_pkg/SnowRate.cpp\"\n",
    "#include \"../../src/cpp/snow_pkg/SnowAuxiliary.cpp\"\n",
    "#include \"../../src/cpp/snow_pkg/SnowExogenous.cpp\"\n",
    "#include \"../../src/cpp/snow_pkg/Snowwet.cpp\"\n"
   ]
  },
  {
   "cell_type": "code",
   "execution_count": null,
   "id": "cdca00c2",
   "metadata": {},
   "outputs": [],
   "source": [
    "class Test\n",
    "{\n",
    "    private:\n",
    "        SnowState s;\n",
    "        SnowState s1;\n",
    "        SnowRate r;\n",
    "        SnowAuxiliary a;\n",
    "        SnowExogenous ex;\n",
    "        Snowwet mod;\n",
    "    public:\n",
    "        //check snow model\n",
    "\n",
    "        // test_snow1\n",
    "        void test_snow1()\n",
    "        {\n",
    "            this->r.setM(0.0);\n",
    "            this->r.setMrf(2.0);\n",
    "            this->r.setSnowaccu(2.0);\n",
    "            this->a.setprecip(1.2);\n",
    "            this->s1.setSwet(5.0);\n",
    "            this->s.setSdry(0.279);\n",
    "            this->mod.Calculate_Model(s,s1, r, a, ex);\n",
    "            //Swet: 0.03;\n",
    "            cout << \"Swet estimated :\\n\";\n",
    "            cout << \"\\t\" << this->s.getSwet() << \"\\n\";\n",
    "        };\n",
    "}\n"
   ]
  },
  {
   "cell_type": "code",
   "execution_count": null,
   "id": "ae9bff62",
   "metadata": {},
   "outputs": [],
   "source": [
    "Test t;\n",
    "t.test_snow1();\n"
   ]
  }
 ],
 "metadata": {},
 "nbformat": 4,
 "nbformat_minor": 5
}
