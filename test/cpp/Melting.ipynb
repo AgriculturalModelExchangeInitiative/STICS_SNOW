{
 "cells": [
  {
   "cell_type": "markdown",
   "id": "431f4207",
   "metadata": {},
   "source": [
    "# Automatic generation of Notebook using PyCropML\n",
    "    This notebook implements a crop model."
   ]
  },
  {
   "cell_type": "markdown",
   "id": "96476843",
   "metadata": {},
   "source": [
    "### Model Melting"
   ]
  },
  {
   "cell_type": "code",
   "execution_count": null,
   "id": "9497dc9d",
   "metadata": {},
   "outputs": [],
   "source": [
    "#include \"../../src/cpp/snow_pkg/SnowState.cpp\"\n",
    "#include \"../../src/cpp/snow_pkg/SnowRate.cpp\"\n",
    "#include \"../../src/cpp/snow_pkg/SnowAuxiliary.cpp\"\n",
    "#include \"../../src/cpp/snow_pkg/SnowExogenous.cpp\"\n",
    "#include \"../../src/cpp/snow_pkg/Melting.cpp\"\n"
   ]
  },
  {
   "cell_type": "code",
   "execution_count": null,
   "id": "b78e45dd",
   "metadata": {},
   "outputs": [],
   "source": [
    "class Test\n",
    "{\n",
    "    private:\n",
    "        SnowState s;\n",
    "        SnowState s1;\n",
    "        SnowRate r;\n",
    "        SnowAuxiliary a;\n",
    "        SnowExogenous ex;\n",
    "        Melting mod;\n",
    "    public:\n",
    "        //check snow model\n",
    "\n",
    "        // test_snow1\n",
    "        void test_snow1()\n",
    "        {\n",
    "            this->mod.setTmf(0.5);\n",
    "            this->mod.setDKmax(1.5);\n",
    "            this->mod.setKmin(2.0);\n",
    "            this->a.settavg(1.5);\n",
    "            this->a.setjul(1);\n",
    "            this->mod.Calculate_Model(s,s1, r, a, ex);\n",
    "            //M: 2.02;\n",
    "            cout << \"M estimated :\\n\";\n",
    "            cout << \"\\t\" << this->r.getM() << \"\\n\";\n",
    "        };\n",
    "}\n"
   ]
  },
  {
   "cell_type": "code",
   "execution_count": null,
   "id": "e0188214",
   "metadata": {},
   "outputs": [],
   "source": [
    "Test t;\n",
    "t.test_snow1();\n"
   ]
  }
 ],
 "metadata": {},
 "nbformat": 4,
 "nbformat_minor": 5
}
