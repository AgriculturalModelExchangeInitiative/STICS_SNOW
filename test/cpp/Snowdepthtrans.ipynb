{
 "cells": [
  {
   "cell_type": "markdown",
   "id": "b3345d3e",
   "metadata": {},
   "source": [
    "# Automatic generation of Notebook using PyCropML\n",
    "    This notebook implements a crop model."
   ]
  },
  {
   "cell_type": "markdown",
   "id": "20f0a905",
   "metadata": {},
   "source": [
    "### Model Snowdepthtrans"
   ]
  },
  {
   "cell_type": "code",
   "execution_count": null,
   "id": "9d288e75",
   "metadata": {},
   "outputs": [],
   "source": [
    "#include \"../../src/cpp/snow_pkg/SnowState.cpp\"\n",
    "#include \"../../src/cpp/snow_pkg/SnowRate.cpp\"\n",
    "#include \"../../src/cpp/snow_pkg/SnowAuxiliary.cpp\"\n",
    "#include \"../../src/cpp/snow_pkg/SnowExogenous.cpp\"\n",
    "#include \"../../src/cpp/snow_pkg/Snowdepthtrans.cpp\"\n"
   ]
  },
  {
   "cell_type": "code",
   "execution_count": null,
   "id": "1597a71c",
   "metadata": {},
   "outputs": [],
   "source": [
    "class Test\n",
    "{\n",
    "    private:\n",
    "        SnowState s;\n",
    "        SnowState s1;\n",
    "        SnowRate r;\n",
    "        SnowAuxiliary a;\n",
    "        SnowExogenous ex;\n",
    "        Snowdepthtrans mod;\n",
    "    public:\n",
    "        //check snow model\n",
    "\n",
    "        // test_snow1\n",
    "        void test_snow1()\n",
    "        {\n",
    "            this->mod.setPns(100.0);\n",
    "            this->s.setSdepth(0.050);\n",
    "            this->mod.Calculate_Model(s,s1, r, a, ex);\n",
    "            //Sdepth_cm: 5;\n",
    "            cout << \"Sdepth_cm estimated :\\n\";\n",
    "            cout << \"\\t\" << this->s.getSdepth_cm() << \"\\n\";\n",
    "        };\n",
    "}\n"
   ]
  },
  {
   "cell_type": "code",
   "execution_count": null,
   "id": "751b7690",
   "metadata": {},
   "outputs": [],
   "source": [
    "Test t;\n",
    "t.test_snow1();\n"
   ]
  }
 ],
 "metadata": {},
 "nbformat": 4,
 "nbformat_minor": 5
}
