{
 "cells": [
  {
   "cell_type": "markdown",
   "id": "78a5df50",
   "metadata": {},
   "source": [
    "# Automatic generation of Notebook using PyCropML\n",
    "    This notebook implements a crop model."
   ]
  },
  {
   "cell_type": "markdown",
   "id": "196927d7",
   "metadata": {},
   "source": [
    "### Model Tempmax"
   ]
  },
  {
   "cell_type": "code",
   "execution_count": null,
   "id": "584749a0",
   "metadata": {},
   "outputs": [],
   "source": [
    "#include \"../../src/cpp/snow_pkg/SnowState.cpp\"\n",
    "#include \"../../src/cpp/snow_pkg/SnowRate.cpp\"\n",
    "#include \"../../src/cpp/snow_pkg/SnowAuxiliary.cpp\"\n",
    "#include \"../../src/cpp/snow_pkg/SnowExogenous.cpp\"\n",
    "#include \"../../src/cpp/snow_pkg/Tempmax.cpp\"\n"
   ]
  },
  {
   "cell_type": "code",
   "execution_count": null,
   "id": "fcd8c5a1",
   "metadata": {},
   "outputs": [],
   "source": [
    "class Test\n",
    "{\n",
    "    private:\n",
    "        SnowState s;\n",
    "        SnowState s1;\n",
    "        SnowRate r;\n",
    "        SnowAuxiliary a;\n",
    "        SnowExogenous ex;\n",
    "        Tempmax mod;\n",
    "    public:\n",
    "        //check snow model\n",
    "\n",
    "        // test_snow1\n",
    "        void test_snow1()\n",
    "        {\n",
    "            this->mod.setprof(10.0);\n",
    "            this->mod.settminseuil(-0.5);\n",
    "            this->mod.settmaxseuil(0.0);\n",
    "            this->s.setSdepth_cm(2.0);\n",
    "            this->a.settmax(-0.3);\n",
    "            this->mod.Calculate_Model(s,s1, r, a, ex);\n",
    "            //tmaxrec: -0.24;\n",
    "            cout << \"tmaxrec estimated :\\n\";\n",
    "            cout << \"\\t\" << this->s.gettmaxrec() << \"\\n\";\n",
    "        };\n",
    "}\n"
   ]
  },
  {
   "cell_type": "code",
   "execution_count": null,
   "id": "79a2d719",
   "metadata": {},
   "outputs": [],
   "source": [
    "Test t;\n",
    "t.test_snow1();\n"
   ]
  }
 ],
 "metadata": {},
 "nbformat": 4,
 "nbformat_minor": 5
}
