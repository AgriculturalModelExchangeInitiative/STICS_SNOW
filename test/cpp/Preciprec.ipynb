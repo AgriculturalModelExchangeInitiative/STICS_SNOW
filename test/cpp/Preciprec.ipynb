{
 "cells": [
  {
   "cell_type": "markdown",
   "id": "4c79b751",
   "metadata": {},
   "source": [
    "# Automatic generation of Notebook using PyCropML\n",
    "    This notebook implements a crop model."
   ]
  },
  {
   "cell_type": "markdown",
   "id": "7c9a1602",
   "metadata": {},
   "source": [
    "### Model Preciprec"
   ]
  },
  {
   "cell_type": "code",
   "execution_count": null,
   "id": "f44e31d4",
   "metadata": {},
   "outputs": [],
   "source": [
    "#include \"../../src/cpp/snow_pkg/SnowState.cpp\"\n",
    "#include \"../../src/cpp/snow_pkg/SnowRate.cpp\"\n",
    "#include \"../../src/cpp/snow_pkg/SnowAuxiliary.cpp\"\n",
    "#include \"../../src/cpp/snow_pkg/SnowExogenous.cpp\"\n",
    "#include \"../../src/cpp/snow_pkg/Preciprec.cpp\"\n"
   ]
  },
  {
   "cell_type": "code",
   "execution_count": null,
   "id": "3650516d",
   "metadata": {},
   "outputs": [],
   "source": [
    "class Test\n",
    "{\n",
    "    private:\n",
    "        SnowState s;\n",
    "        SnowState s1;\n",
    "        SnowRate r;\n",
    "        SnowAuxiliary a;\n",
    "        SnowExogenous ex;\n",
    "        Preciprec mod;\n",
    "    public:\n",
    "        //check snow model\n",
    "\n",
    "        // test_snow1\n",
    "        void test_snow1()\n",
    "        {\n",
    "            this->mod.setrho(100.0);\n",
    "            this->s.setSdepth(0.087);\n",
    "            this->s1.setSdepth(0.085);\n",
    "            this->r.setMrf(0.27);\n",
    "            this->r.setSnowaccu(0.23);\n",
    "            this->a.setprecip(5.2);\n",
    "            this->s1.setSdry(10.0);\n",
    "            this->s.setSdry(10.0);\n",
    "            this->s.setSwet(0.03);\n",
    "            this->s1.setSwet(5.0);\n",
    "            this->mod.Calculate_Model(s,s1, r, a, ex);\n",
    "            //preciprec: 4.5;\n",
    "            cout << \"preciprec estimated :\\n\";\n",
    "            cout << \"\\t\" << this->s.getpreciprec() << \"\\n\";\n",
    "        };\n",
    "}\n"
   ]
  },
  {
   "cell_type": "code",
   "execution_count": null,
   "id": "6231f97a",
   "metadata": {},
   "outputs": [],
   "source": [
    "Test t;\n",
    "t.test_snow1();\n"
   ]
  }
 ],
 "metadata": {},
 "nbformat": 4,
 "nbformat_minor": 5
}
